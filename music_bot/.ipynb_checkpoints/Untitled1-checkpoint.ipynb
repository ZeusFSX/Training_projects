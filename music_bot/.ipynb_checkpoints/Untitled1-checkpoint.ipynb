{
 "cells": [
  {
   "cell_type": "code",
   "execution_count": 1,
   "metadata": {
    "collapsed": true
   },
   "outputs": [],
   "source": [
    "import telebot\n",
    "token = '*'\n",
    "from bs4 import BeautifulSoup\n",
    "import requests\n",
    "\n",
    "def get_url(string):\n",
    "    split_string = string.split()\n",
    "    string = '-'.join(split_string)\n",
    "    url = 'https://zvonko.me/poisk/' + string\n",
    "    return url\n",
    "\n",
    "def get_html(url): \n",
    "    headers = {\n",
    "    'User-Agent': 'Mozilla/5.0 (Windows NT 6.3; Win64; x64) AppleWebKit/537.36 (KHTML, like Gecko) Chrome/61.0.3163.100 Safari/537.36'\n",
    "    }\n",
    "    \n",
    "    r = requests.get(url, headers = headers)\n",
    "    html = r.text\n",
    "    return html\n",
    "\n",
    "def get_music(html):\n",
    "    soup = BeautifulSoup(html,'lxml')\n",
    "    li = soup.find('li',{'class':'download'})\n",
    "    a = li.find('a',class_='dl')\n",
    "    link = a.get('href')\n",
    "    html = get_html(link)\n",
    "    soup = BeautifulSoup(html,'lxml')\n",
    "    a = soup.find('a',{'class':'button buttonDownload big'})\n",
    "    link = a.get('href')\n",
    "    return link\n",
    "\n",
    "bot = telebot.TeleBot(token)\n",
    "@bot.message_handler(commands=['start', 'help'])\n",
    "def handle_start_help(message):\n",
    "     bot.send_message(message.chat.id, \"Привіт\")\n",
    "\n",
    "@bot.message_handler(func=lambda message: True, content_types=['text'])\n",
    "def return_music(message): # Название функции не играет никакой роли, в принципе\n",
    "    url = get_url(message.text)\n",
    "    html = get_html(url)\n",
    "    music = get_music(html)\n",
    "    bot.send_message(message.chat.id, music)\n",
    "if __name__ == '__main__':\n",
    "     bot.polling(none_stop=True)\n",
    "\n",
    "\n"
   ]
  }
 ],
 "metadata": {
  "kernelspec": {
   "display_name": "Python 3",
   "language": "python",
   "name": "python3"
  },
  "language_info": {
   "codemirror_mode": {
    "name": "ipython",
    "version": 3
   },
   "file_extension": ".py",
   "mimetype": "text/x-python",
   "name": "python",
   "nbconvert_exporter": "python",
   "pygments_lexer": "ipython3",
   "version": "3.6.1"
  }
 },
 "nbformat": 4,
 "nbformat_minor": 2
}
