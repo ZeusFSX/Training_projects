{
 "cells": [
  {
   "cell_type": "code",
<<<<<<< HEAD
   "execution_count": 9,
=======
   "execution_count": 6,
>>>>>>> origin/master
   "metadata": {},
   "outputs": [
    {
     "name": "stdout",
     "output_type": "stream",
     "text": [
      "http://dl3.zvonko.me/aHR0cDovL2YubXAzcG9pc2submV0L21wMy8wMDAvNTYzLzcwOC81NjM3MDgubXAzP3RpdGxlPdGB0LrRgNGP0LHRltC9LdC80ZbRgdGG0Y8t0YnQsNGB0LvQuNCy0LjRhS3Qu9GO0LTQtdC5Lm1wMw==\n"
     ]
    }
   ],
   "source": [
    "from bs4 import BeautifulSoup\n",
    "import requests\n",
    "\n",
    "def get_url(string):\n",
    "    split_string = string.split()\n",
    "    string = '-'.join(split_string)\n",
    "    url = 'https://zvonko.me/poisk/' + string\n",
    "    return url\n",
    "\n",
    "def get_html(url): \n",
    "    headers = {\n",
    "    'User-Agent': 'Mozilla/5.0 (Windows NT 6.3; Win64; x64) AppleWebKit/537.36 (KHTML, like Gecko) Chrome/61.0.3163.100 Safari/537.36'\n",
<<<<<<< HEAD
    "    }\n",
=======
    "      }\n",
>>>>>>> origin/master
    "    \n",
    "    r = requests.get(url, headers = headers)\n",
    "    html = r.text\n",
    "    return html\n",
    "\n",
    "def get_music(html):\n",
    "    soup = BeautifulSoup(html,'lxml')\n",
    "    li = soup.find('li',{'class':'download'})\n",
    "    a = li.find('a',class_='dl')\n",
    "    link = a.get('href')\n",
    "    html = get_html(link)\n",
    "    soup = BeautifulSoup(html,'lxml')\n",
    "    a = soup.find('a',{'class':'button buttonDownload big'})\n",
    "    link = a.get('href')\n",
    "    return link\n",
    "\n",
    "def main(string):\n",
    "    url = get_url(string)\n",
    "    html = get_html(url)\n",
    "    music = get_music(html)\n",
    "    print(music)\n",
    "    \n",
    "if __name__ == '__main__':\n",
    "    string = 'Скрябін Місця щасливих людей'\n",
    "    main(string)"
   ]
  },
  {
   "cell_type": "code",
   "execution_count": null,
   "metadata": {
    "collapsed": true
   },
   "outputs": [],
   "source": []
  },
  {
   "cell_type": "code",
   "execution_count": null,
   "metadata": {
    "collapsed": true,
    "scrolled": false
   },
   "outputs": [],
   "source": []
  },
  {
   "cell_type": "code",
   "execution_count": null,
   "metadata": {
    "collapsed": true
   },
   "outputs": [],
   "source": []
  }
 ],
 "metadata": {
  "kernelspec": {
   "display_name": "Python 3",
   "language": "python",
   "name": "python3"
  },
  "language_info": {
   "codemirror_mode": {
    "name": "ipython",
    "version": 3
   },
   "file_extension": ".py",
   "mimetype": "text/x-python",
   "name": "python",
   "nbconvert_exporter": "python",
   "pygments_lexer": "ipython3",
   "version": "3.6.1"
  }
 },
 "nbformat": 4,
 "nbformat_minor": 2
}
