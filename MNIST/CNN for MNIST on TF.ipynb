{
 "cells": [
  {
   "cell_type": "code",
   "execution_count": 210,
   "metadata": {},
   "outputs": [
    {
     "name": "stdout",
     "output_type": "stream",
     "text": [
      "Extracting MNIST_data\\train-images-idx3-ubyte.gz\n",
      "Extracting MNIST_data\\train-labels-idx1-ubyte.gz\n",
      "Extracting MNIST_data\\t10k-images-idx3-ubyte.gz\n",
      "Extracting MNIST_data\\t10k-labels-idx1-ubyte.gz\n"
     ]
    }
   ],
   "source": [
    "import numpy as np\n",
    "import matplotlib.pyplot as plt\n",
    "import pandas as pd\n",
    "import mglearn\n",
    "import re\n",
    "from IPython.display import display\n",
    "import tensorflow as tf\n",
    "\n",
    "plt.rc('font', family='Verdana')\n",
    "%matplotlib inline\n",
    "\n",
    "from tensorflow.examples.tutorials.mnist import input_data\n",
    "mnist = input_data.read_data_sets('MNIST_data', one_hot=True)"
   ]
  },
  {
   "cell_type": "code",
   "execution_count": 211,
   "metadata": {
    "collapsed": true
   },
   "outputs": [],
   "source": [
    "sess = tf.InteractiveSession()"
   ]
  },
  {
   "cell_type": "code",
   "execution_count": 212,
   "metadata": {
    "collapsed": true
   },
   "outputs": [],
   "source": [
    "width = 28\n",
    "height = 28\n",
    "flat = width*height\n",
    "class_output = 10\n",
    "padding = 'SAME'\n",
    "x = tf.placeholder(tf.float32,shape = [None, flat])\n",
    "y_= tf.placeholder(tf.float32,shape = [None, class_output])\n",
    "\n",
    "x_image = tf.reshape(x, shape = [-1, width, height, 1])"
   ]
  },
  {
   "cell_type": "code",
   "execution_count": 213,
   "metadata": {
    "collapsed": true,
    "scrolled": false
   },
   "outputs": [],
   "source": [
    "W_conv1 = tf.Variable(tf.truncated_normal(shape = [5,5,1 ,32], stddev = 0.1))\n",
    "b_conv1 = tf.Variable(tf.constant(0.1,shape = [32]))\n",
    "convolve1 = tf.nn.conv2d(x_image, W_conv1, strides = [1,1,1,1], padding = padding) + b_conv1\n",
    "h_conv1 = tf.nn.relu(convolve1)\n",
    "conv1 = tf.nn.max_pool(h_conv1, ksize =[1,2,2,1], strides = [1,2,2,1], padding = padding)\n",
    "#conv1"
   ]
  },
  {
   "cell_type": "code",
   "execution_count": 214,
   "metadata": {
    "collapsed": true
   },
   "outputs": [],
   "source": [
    "W_conv2 = tf.Variable(tf.truncated_normal(shape = [5,5,32 ,64], stddev = 0.1))\n",
    "b_conv2 = tf.Variable(tf.constant(0.1,shape = [64]))\n",
    "convolve2 = tf.nn.conv2d(conv1, W_conv2,strides = [1,1,1,1], padding = padding) + b_conv2\n",
    "h_conv2 = tf.nn.relu(convolve2)\n",
    "conv2 = tf.nn.max_pool(h_conv2,ksize =[1,2,2,1], strides = [1,2,2,1], padding = padding)\n",
    "#conv2"
   ]
  },
  {
   "cell_type": "code",
   "execution_count": 215,
   "metadata": {
    "collapsed": true
   },
   "outputs": [],
   "source": [
    "layer2_matrix = tf.reshape(conv2, [-1,7*7*64])\n",
    "W_fc1 = tf.Variable(tf.truncated_normal(shape =[7*7*64,1024], stddev=0.1))\n",
    "b_fc1 = tf.Variable(tf.constant(0.1,shape = [1024]))\n",
    "fcl = tf.matmul(layer2_matrix, W_fc1) + b_fc1\n",
    "h_fcl = tf.nn.relu(fcl)\n",
    "#h_fcl\n",
    "\n",
    "keep_prob = tf.placeholder(tf.float32)\n",
    "layerdrop = tf.nn.dropout(h_fcl,keep_prob)\n",
    "\n",
    "W_fc2 =  tf.Variable(tf.truncated_normal(shape = [1024,10], stddev = 0.1))\n",
    "b_fc2 =  tf.Variable(tf.constant(0.1 , shape = [10]))\n",
    "fc2 = tf.matmul(layerdrop, W_fc2) + b_fc2\n",
    "\n",
    "y_CNN = tf.nn.softmax(fc2)"
   ]
  },
  {
   "cell_type": "code",
   "execution_count": 216,
   "metadata": {},
   "outputs": [
    {
     "name": "stdout",
     "output_type": "stream",
     "text": [
      "step 0, training accuracy 0.0833333\n",
      "step 100, training accuracy 0.783333\n",
      "step 200, training accuracy 0.9\n",
      "step 300, training accuracy 0.983333\n",
      "step 400, training accuracy 0.9\n",
      "step 500, training accuracy 0.966667\n",
      "step 600, training accuracy 0.95\n",
      "step 700, training accuracy 0.883333\n",
      "step 800, training accuracy 0.983333\n",
      "step 900, training accuracy 0.966667\n",
      "test accuracy 0.9684\n"
     ]
    }
   ],
   "source": [
    "cross_entropy = tf.reduce_mean(-tf.reduce_sum(y_ * tf.log(y_CNN), reduction_indices=[1]))\n",
    "train_step = tf.train.AdamOptimizer(1e-4).minimize(cross_entropy)\n",
    "correct_prediction = tf.equal(tf.argmax(y_CNN,1), tf.argmax(y_,1))\n",
    "accuracy = tf.reduce_mean(tf.cast(correct_prediction, tf.float32))\n",
    "sess.run(tf.global_variables_initializer())\n",
    "\n",
    "for i in range(20000):\n",
    "    batch = mnist.train.next_batch(60)\n",
    "    if i%100 == 0:\n",
    "        train_accuracy = accuracy.eval(feed_dict={x:batch[0], y_: batch[1], keep_prob: 1.0})\n",
    "        print(\"step %d, training accuracy %g\"%(i, float(train_accuracy)))\n",
    "    train_step.run(feed_dict={x: batch[0], y_: batch[1], keep_prob: 0.5})\n",
    "print(\"test accuracy %g\"% accuracy.eval(feed_dict={x: mnist.test.images, y_: mnist.test.labels, keep_prob: 1.0}))"
   ]
  },
  {
   "cell_type": "code",
   "execution_count": null,
   "metadata": {
    "collapsed": true
   },
   "outputs": [],
   "source": []
  }
 ],
 "metadata": {
  "kernelspec": {
   "display_name": "Python 3",
   "language": "python",
   "name": "python3"
  },
  "language_info": {
   "codemirror_mode": {
    "name": "ipython",
    "version": 3
   },
   "file_extension": ".py",
   "mimetype": "text/x-python",
   "name": "python",
   "nbconvert_exporter": "python",
   "pygments_lexer": "ipython3",
   "version": "3.6.1"
  }
 },
 "nbformat": 4,
 "nbformat_minor": 2
}
