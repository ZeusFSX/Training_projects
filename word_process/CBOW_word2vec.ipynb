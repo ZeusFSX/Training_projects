{
 "cells": [
  {
   "cell_type": "code",
   "execution_count": 2,
   "metadata": {},
   "outputs": [],
   "source": [
    "from keras.models import Sequential\n",
    "from keras.layers.core import Dense, Lambda\n",
    "from keras.layers.embeddings import Embedding\n",
    "import keras.backend as K\n",
    "\n",
    "vocab_size = 5000\n",
    "embed_size = 300\n",
    "window_size = 1\n",
    "\n",
    "model = Sequential()\n",
    "model.add(Embedding(input_dim = vocab_size, output_dim = embed_size,\n",
    "                   embeddings_initializer = \"glorot_uniform\",\n",
    "                   input_length = window_size*2))\n",
    "model.add(Lambda(lambda x:K.mean(x,axis=1),output_shape = (embed_size,)))\n",
    "model.add(Dense(vocab_size,kernel_initializer = 'glorot_uniform',activation = 'softmax'))\n",
    "model.compile(loss='categorical_crossentropy',optimizer='adam')\n"
   ]
  }
 ],
 "metadata": {
  "kernelspec": {
   "display_name": "Python 3",
   "language": "python",
   "name": "python3"
  },
  "language_info": {
   "codemirror_mode": {
    "name": "ipython",
    "version": 3
   },
   "file_extension": ".py",
   "mimetype": "text/x-python",
   "name": "python",
   "nbconvert_exporter": "python",
   "pygments_lexer": "ipython3",
   "version": "3.6.1"
  }
 },
 "nbformat": 4,
 "nbformat_minor": 2
}
