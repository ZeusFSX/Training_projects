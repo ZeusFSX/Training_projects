{
 "cells": [
  {
   "cell_type": "code",
   "execution_count": 13,
   "metadata": {},
   "outputs": [],
   "source": [
    "from keras.layers import Merge\n",
    "from keras.layers.core import Dense, Reshape\n",
    "from keras.layers.embeddings import Embedding\n",
    "from keras.models import Sequential"
   ]
  },
  {
   "cell_type": "code",
   "execution_count": 14,
   "metadata": {},
   "outputs": [
    {
     "name": "stderr",
     "output_type": "stream",
     "text": [
      "C:\\Users\\user\\Anaconda3\\lib\\site-packages\\ipykernel_launcher.py:17: UserWarning: The `Merge` layer is deprecated and will be removed after 08/2017. Use instead layers from `keras.layers.merge`, e.g. `add`, `concatenate`, etc.\n",
      "C:\\Users\\user\\Anaconda3\\lib\\site-packages\\ipykernel_launcher.py:18: UserWarning: Update your `Dense` call to the Keras 2 API: `Dense(1, activation=\"sigmoid\", kernel_initializer=\"glorot_uniform\")`\n"
     ]
    }
   ],
   "source": [
    "vocab_size = 5000\n",
    "embed_size = 300\n",
    "\n",
    "word_model = Sequential()\n",
    "word_model.add(Embedding(vocab_size,embed_size,\n",
    "                        embeddings_initializer = \"glorot_uniform\",\n",
    "                        input_length = 1))\n",
    "word_model.add(Reshape((embed_size,)))\n",
    "\n",
    "contex_model = Sequential()\n",
    "contex_model.add(Embedding(vocab_size,embed_size,\n",
    "                        embeddings_initializer = \"glorot_uniform\",\n",
    "                        input_length = 1))\n",
    "contex_model.add(Reshape((embed_size,)))\n",
    "\n",
    "model = Sequential()\n",
    "model.add(Merge([word_model,contex_model], mode = \"dot\"))\n",
    "model.add(Dense(1,init=\"glorot_uniform\", activation = \"sigmoid\"))\n",
    "model.compile(loss=\"mean_squared_error\", optimizer = \"adam\")\n"
   ]
  },
  {
   "cell_type": "code",
   "execution_count": 15,
   "metadata": {},
   "outputs": [
    {
     "name": "stdout",
     "output_type": "stream",
     "text": [
      "(green (3), eggs (4)) -> 0\n",
      "(i (1), love (2)) -> 1\n",
      "(and (5), ham (6)) -> 1\n",
      "(i (1), i (1)) -> 0\n",
      "(and (5), love (2)) -> 0\n",
      "(ham (6), and (5)) -> 0\n",
      "(ham (6), love (2)) -> 1\n",
      "(ham (6), eggs (4)) -> 1\n",
      "(ham (6), eggs (4)) -> 0\n",
      "(and (5), love (2)) -> 1\n"
     ]
    }
   ],
   "source": [
    "from keras.preprocessing.text import *\n",
    "from keras.preprocessing.sequence import skipgrams\n",
    "\n",
    "text = \"I love green eggs and ham\"\n",
    "tokenizer = Tokenizer()\n",
    "tokenizer.fit_on_texts([text])\n",
    "word2id = tokenizer.word_index\n",
    "id2word = {v:k for k,v in word2id.items()}\n",
    "\n",
    "wids = [word2id[w] for w in text_to_word_sequence(text)]\n",
    "pairs , labels = skipgrams(wids,len(word2id))\n",
    "for i in range(10):\n",
    "    print(\"({:s} ({:d}), {:s} ({:d})) -> {:d}\".format(\n",
    "            id2word[pairs[i][0]], pairs[i][0],\n",
    "            id2word[pairs[i][1]], pairs[i][1],\n",
    "            labels[i]))\n"
   ]
  }
 ],
 "metadata": {
  "kernelspec": {
   "display_name": "Python 3",
   "language": "python",
   "name": "python3"
  },
  "language_info": {
   "codemirror_mode": {
    "name": "ipython",
    "version": 3
   },
   "file_extension": ".py",
   "mimetype": "text/x-python",
   "name": "python",
   "nbconvert_exporter": "python",
   "pygments_lexer": "ipython3",
   "version": "3.6.1"
  }
 },
 "nbformat": 4,
 "nbformat_minor": 2
}
